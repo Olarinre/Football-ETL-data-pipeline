{
 "cells": [
  {
   "cell_type": "code",
   "execution_count": 10,
   "id": "850f49d0",
   "metadata": {},
   "outputs": [],
   "source": [
    "import os\n",
    "import json\n",
    "import requests\n",
    "import pandas as pd\n",
    "from dotenv import load_dotenv\n",
    "from dbcon import get_session, init_db, Tabledata\n",
    "\n"
   ]
  },
  {
   "cell_type": "code",
   "execution_count": 11,
   "id": "e1bcaf1d",
   "metadata": {},
   "outputs": [],
   "source": [
    "load_dotenv()\n",
    "API_KEY = os.getenv(\"API_KEY\")\n",
    "#API_HOST = os.getenv(\"API_HOST\")\n",
    "#season = 2024\n",
    "#league_id = 39"
   ]
  },
  {
   "cell_type": "code",
   "execution_count": 12,
   "id": "2a4698c3",
   "metadata": {},
   "outputs": [],
   "source": [
    "url = \"https://api.football-data.org/v4/competitions/PD/standings/\"\n",
    "headers = {\n",
    "\t\"x-Auth-Token\": API_KEY,\n",
    "}"
   ]
  },
  {
   "cell_type": "code",
   "execution_count": 13,
   "id": "febd9029",
   "metadata": {},
   "outputs": [],
   "source": [
    "response = requests.get(url, headers=headers)\n",
    "result = response.json()['standings'][0]['table']"
   ]
  },
  {
   "cell_type": "code",
   "execution_count": 14,
   "id": "8e6bfa1a",
   "metadata": {},
   "outputs": [],
   "source": [
    "rows = []\n",
    "columns = [\"position\", \"team_name\", \"matches\", \"points\", \"score_diff\", \"goals\"]"
   ]
  },
  {
   "cell_type": "markdown",
   "id": "7bd7f338",
   "metadata": {},
   "source": []
  },
  {
   "cell_type": "code",
   "execution_count": 15,
   "id": "ce037970",
   "metadata": {},
   "outputs": [
    {
     "name": "stdout",
     "output_type": "stream",
     "text": [
      "    position                  team_name  matches  points  score_diff  goals\n",
      "0          1             Real Madrid CF        3       9           5      6\n",
      "1          2              Athletic Club        3       9           3      6\n",
      "2          3              Villarreal CF        3       7           7      8\n",
      "3          4               FC Barcelona        3       7           4      7\n",
      "4          5  RCD Espanyol de Barcelona        3       7           2      5\n",
      "5          6                  Getafe CF        3       6           0      4\n",
      "6          7                   Elche CF        3       5           2      4\n",
      "7          8        Real Betis Balompié        4       5           0      4\n",
      "8          9                Valencia CF        3       4           2      4\n",
      "9         10   Rayo Vallecano de Madrid        3       4           1      4\n",
      "10        11           Deportivo Alavés        3       4           0      3\n",
      "11        12                 Sevilla FC        3       3           0      5\n",
      "12        13                 CA Osasuna        3       3          -1      1\n",
      "13        14           RC Celta de Vigo        4       3          -2      3\n",
      "14        15                Real Oviedo        3       3          -4      1\n",
      "15        16    Club Atlético de Madrid        3       2          -1      3\n",
      "16        16    Real Sociedad de Fútbol        3       2          -1      3\n",
      "17        18               RCD Mallorca        3       1          -4      2\n",
      "18        19                 Levante UD        3       0          -4      3\n",
      "19        20                  Girona FC        3       0          -9      1\n"
     ]
    }
   ],
   "source": [
    "for team in result:\n",
    "    position = int(team['position'])\n",
    "    team_name = str(team['team']['name'])\n",
    "    matches = int(team['playedGames'])\n",
    "    points = int(team['points'])\n",
    "    score_diff = int(team['goalDifference'])\n",
    "    goals = int(team['goalsFor'])\n",
    "    rows.append([position, team_name, matches, points, score_diff, goals])\n",
    "\n",
    "#create a datafram with the extracted data\n",
    "df = pd.DataFrame(rows, columns=columns)\n",
    "print(df)"
   ]
  },
  {
   "cell_type": "code",
   "execution_count": 16,
   "id": "359bcb55",
   "metadata": {},
   "outputs": [],
   "source": [
    "# get a csv file generated.\n",
    "df.to_csv('standings.csv', index=False)"
   ]
  },
  {
   "cell_type": "code",
   "execution_count": 17,
   "id": "4d8fddee",
   "metadata": {},
   "outputs": [
    {
     "name": "stdout",
     "output_type": "stream",
     "text": [
      "2025-09-03 12:06:21,626 INFO sqlalchemy.engine.Engine BEGIN (implicit)\n",
      "2025-09-03 12:06:21,641 INFO sqlalchemy.engine.Engine SELECT pg_catalog.pg_class.relname \n",
      "FROM pg_catalog.pg_class JOIN pg_catalog.pg_namespace ON pg_catalog.pg_namespace.oid = pg_catalog.pg_class.relnamespace \n",
      "WHERE pg_catalog.pg_class.relname = %(table_name)s AND pg_catalog.pg_class.relkind = ANY (ARRAY[%(param_1)s, %(param_2)s, %(param_3)s, %(param_4)s, %(param_5)s]) AND pg_catalog.pg_table_is_visible(pg_catalog.pg_class.oid) AND pg_catalog.pg_namespace.nspname != %(nspname_1)s\n",
      "2025-09-03 12:06:21,647 INFO sqlalchemy.engine.Engine [cached since 1032s ago] {'table_name': 'tabledata', 'param_1': 'r', 'param_2': 'p', 'param_3': 'f', 'param_4': 'v', 'param_5': 'm', 'nspname_1': 'pg_catalog'}\n",
      "2025-09-03 12:06:21,663 INFO sqlalchemy.engine.Engine \n",
      "CREATE TABLE tabledata (\n",
      "\tid SERIAL NOT NULL, \n",
      "\tposition INTEGER NOT NULL, \n",
      "\t\"Team_name\" VARCHAR NOT NULL, \n",
      "\t\"Matches\" INTEGER NOT NULL, \n",
      "\tpoints INTEGER NOT NULL, \n",
      "\tscore_diff INTEGER NOT NULL, \n",
      "\t\"Goals\" INTEGER NOT NULL, \n",
      "\tPRIMARY KEY (id)\n",
      ")\n",
      "\n",
      "\n",
      "2025-09-03 12:06:21,671 INFO sqlalchemy.engine.Engine [no key 0.00211s] {}\n",
      "2025-09-03 12:06:21,719 INFO sqlalchemy.engine.Engine COMMIT\n",
      "Tables created successfully.\n"
     ]
    },
    {
     "data": {
      "text/plain": [
       "<generator object get_session at 0x000002609C0B02E0>"
      ]
     },
     "execution_count": 17,
     "metadata": {},
     "output_type": "execute_result"
    }
   ],
   "source": [
    "#inintialize db connection\n",
    "session = get_session()\n",
    "init_db()\n",
    "session"
   ]
  },
  {
   "cell_type": "code",
   "execution_count": null,
   "id": "e78b4d96",
   "metadata": {},
   "outputs": [
    {
     "name": "stdout",
     "output_type": "stream",
     "text": [
      "✅ Database session created successfully.\n"
     ]
    },
    {
     "ename": "KeyError",
     "evalue": "'point'",
     "output_type": "error",
     "traceback": [
      "\u001b[31m---------------------------------------------------------------------------\u001b[39m",
      "\u001b[31mKeyError\u001b[39m                                  Traceback (most recent call last)",
      "\u001b[36mFile \u001b[39m\u001b[32mc:\\Users\\USER\\anaconda3\\envs\\crashcourse\\Lib\\site-packages\\pandas\\core\\indexes\\base.py:3805\u001b[39m, in \u001b[36mIndex.get_loc\u001b[39m\u001b[34m(self, key)\u001b[39m\n\u001b[32m   3804\u001b[39m \u001b[38;5;28;01mtry\u001b[39;00m:\n\u001b[32m-> \u001b[39m\u001b[32m3805\u001b[39m     \u001b[38;5;28;01mreturn\u001b[39;00m \u001b[38;5;28mself\u001b[39m._engine.get_loc(casted_key)\n\u001b[32m   3806\u001b[39m \u001b[38;5;28;01mexcept\u001b[39;00m \u001b[38;5;167;01mKeyError\u001b[39;00m \u001b[38;5;28;01mas\u001b[39;00m err:\n",
      "\u001b[36mFile \u001b[39m\u001b[32mindex.pyx:167\u001b[39m, in \u001b[36mpandas._libs.index.IndexEngine.get_loc\u001b[39m\u001b[34m()\u001b[39m\n",
      "\u001b[36mFile \u001b[39m\u001b[32mindex.pyx:196\u001b[39m, in \u001b[36mpandas._libs.index.IndexEngine.get_loc\u001b[39m\u001b[34m()\u001b[39m\n",
      "\u001b[36mFile \u001b[39m\u001b[32mpandas\\\\_libs\\\\hashtable_class_helper.pxi:7081\u001b[39m, in \u001b[36mpandas._libs.hashtable.PyObjectHashTable.get_item\u001b[39m\u001b[34m()\u001b[39m\n",
      "\u001b[36mFile \u001b[39m\u001b[32mpandas\\\\_libs\\\\hashtable_class_helper.pxi:7089\u001b[39m, in \u001b[36mpandas._libs.hashtable.PyObjectHashTable.get_item\u001b[39m\u001b[34m()\u001b[39m\n",
      "\u001b[31mKeyError\u001b[39m: 'point'",
      "\nThe above exception was the direct cause of the following exception:\n",
      "\u001b[31mKeyError\u001b[39m                                  Traceback (most recent call last)",
      "\u001b[36mCell\u001b[39m\u001b[36m \u001b[39m\u001b[32mIn[18]\u001b[39m\u001b[32m, line 8\u001b[39m\n\u001b[32m      2\u001b[39m db_session = \u001b[38;5;28mnext\u001b[39m(get_session())\n\u001b[32m      3\u001b[39m \u001b[38;5;28;01mfor\u001b[39;00m index, row \u001b[38;5;129;01min\u001b[39;00m df.iterrows():\n\u001b[32m      4\u001b[39m     table_data = Tabledata(\n\u001b[32m      5\u001b[39m         position = (row[\u001b[33m'\u001b[39m\u001b[33mposition\u001b[39m\u001b[33m'\u001b[39m]),\n\u001b[32m      6\u001b[39m         team_name = (row[\u001b[33m'\u001b[39m\u001b[33mteam_name\u001b[39m\u001b[33m'\u001b[39m]),\n\u001b[32m      7\u001b[39m         matches = (row[\u001b[33m'\u001b[39m\u001b[33mmatches\u001b[39m\u001b[33m'\u001b[39m]),\n\u001b[32m----> \u001b[39m\u001b[32m8\u001b[39m         point = (row[\u001b[33m'\u001b[39m\u001b[33mpoint\u001b[39m\u001b[33m'\u001b[39m]),\n\u001b[32m      9\u001b[39m         score_diff = (row[\u001b[33m'\u001b[39m\u001b[33mscore_diff\u001b[39m\u001b[33m'\u001b[39m]),\n\u001b[32m     10\u001b[39m         goals = (row[\u001b[33m'\u001b[39m\u001b[33mgoals\u001b[39m\u001b[33m'\u001b[39m])\n\u001b[32m     11\u001b[39m     )\n\u001b[32m     12\u001b[39m     db_session.add(table_data)\n\u001b[32m     13\u001b[39m db_session.commit()\n",
      "\u001b[36mFile \u001b[39m\u001b[32mc:\\Users\\USER\\anaconda3\\envs\\crashcourse\\Lib\\site-packages\\pandas\\core\\series.py:1121\u001b[39m, in \u001b[36mSeries.__getitem__\u001b[39m\u001b[34m(self, key)\u001b[39m\n\u001b[32m   1118\u001b[39m     \u001b[38;5;28;01mreturn\u001b[39;00m \u001b[38;5;28mself\u001b[39m._values[key]\n\u001b[32m   1120\u001b[39m \u001b[38;5;28;01melif\u001b[39;00m key_is_scalar:\n\u001b[32m-> \u001b[39m\u001b[32m1121\u001b[39m     \u001b[38;5;28;01mreturn\u001b[39;00m \u001b[38;5;28mself\u001b[39m._get_value(key)\n\u001b[32m   1123\u001b[39m \u001b[38;5;66;03m# Convert generator to list before going through hashable part\u001b[39;00m\n\u001b[32m   1124\u001b[39m \u001b[38;5;66;03m# (We will iterate through the generator there to check for slices)\u001b[39;00m\n\u001b[32m   1125\u001b[39m \u001b[38;5;28;01mif\u001b[39;00m is_iterator(key):\n",
      "\u001b[36mFile \u001b[39m\u001b[32mc:\\Users\\USER\\anaconda3\\envs\\crashcourse\\Lib\\site-packages\\pandas\\core\\series.py:1237\u001b[39m, in \u001b[36mSeries._get_value\u001b[39m\u001b[34m(self, label, takeable)\u001b[39m\n\u001b[32m   1234\u001b[39m     \u001b[38;5;28;01mreturn\u001b[39;00m \u001b[38;5;28mself\u001b[39m._values[label]\n\u001b[32m   1236\u001b[39m \u001b[38;5;66;03m# Similar to Index.get_value, but we do not fall back to positional\u001b[39;00m\n\u001b[32m-> \u001b[39m\u001b[32m1237\u001b[39m loc = \u001b[38;5;28mself\u001b[39m.index.get_loc(label)\n\u001b[32m   1239\u001b[39m \u001b[38;5;28;01mif\u001b[39;00m is_integer(loc):\n\u001b[32m   1240\u001b[39m     \u001b[38;5;28;01mreturn\u001b[39;00m \u001b[38;5;28mself\u001b[39m._values[loc]\n",
      "\u001b[36mFile \u001b[39m\u001b[32mc:\\Users\\USER\\anaconda3\\envs\\crashcourse\\Lib\\site-packages\\pandas\\core\\indexes\\base.py:3812\u001b[39m, in \u001b[36mIndex.get_loc\u001b[39m\u001b[34m(self, key)\u001b[39m\n\u001b[32m   3807\u001b[39m     \u001b[38;5;28;01mif\u001b[39;00m \u001b[38;5;28misinstance\u001b[39m(casted_key, \u001b[38;5;28mslice\u001b[39m) \u001b[38;5;129;01mor\u001b[39;00m (\n\u001b[32m   3808\u001b[39m         \u001b[38;5;28misinstance\u001b[39m(casted_key, abc.Iterable)\n\u001b[32m   3809\u001b[39m         \u001b[38;5;129;01mand\u001b[39;00m \u001b[38;5;28many\u001b[39m(\u001b[38;5;28misinstance\u001b[39m(x, \u001b[38;5;28mslice\u001b[39m) \u001b[38;5;28;01mfor\u001b[39;00m x \u001b[38;5;129;01min\u001b[39;00m casted_key)\n\u001b[32m   3810\u001b[39m     ):\n\u001b[32m   3811\u001b[39m         \u001b[38;5;28;01mraise\u001b[39;00m InvalidIndexError(key)\n\u001b[32m-> \u001b[39m\u001b[32m3812\u001b[39m     \u001b[38;5;28;01mraise\u001b[39;00m \u001b[38;5;167;01mKeyError\u001b[39;00m(key) \u001b[38;5;28;01mfrom\u001b[39;00m\u001b[38;5;250m \u001b[39m\u001b[34;01merr\u001b[39;00m\n\u001b[32m   3813\u001b[39m \u001b[38;5;28;01mexcept\u001b[39;00m \u001b[38;5;167;01mTypeError\u001b[39;00m:\n\u001b[32m   3814\u001b[39m     \u001b[38;5;66;03m# If we have a listlike key, _check_indexing_error will raise\u001b[39;00m\n\u001b[32m   3815\u001b[39m     \u001b[38;5;66;03m#  InvalidIndexError. Otherwise we fall through and re-raise\u001b[39;00m\n\u001b[32m   3816\u001b[39m     \u001b[38;5;66;03m#  the TypeError.\u001b[39;00m\n\u001b[32m   3817\u001b[39m     \u001b[38;5;28mself\u001b[39m._check_indexing_error(key)\n",
      "\u001b[31mKeyError\u001b[39m: 'point'"
     ]
    }
   ],
   "source": [
    "#store data in the database\n",
    "db_session = next(get_session())\n",
    "for index, row in df.iterrows():\n",
    "    table_data = Tabledata(\n",
    "        position = (row['position']),\n",
    "        team_name = (row['team_name']),\n",
    "        matches = (row['matches']),\n",
    "        points = (row['point']),\n",
    "        score_diff = (row['score_diff']),\n",
    "        goals = (row['goals'])\n",
    "    )\n",
    "    db_session.add(table_data)\n",
    "db_session.commit()"
   ]
  }
 ],
 "metadata": {
  "kernelspec": {
   "display_name": "crashcourse",
   "language": "python",
   "name": "python3"
  },
  "language_info": {
   "codemirror_mode": {
    "name": "ipython",
    "version": 3
   },
   "file_extension": ".py",
   "mimetype": "text/x-python",
   "name": "python",
   "nbconvert_exporter": "python",
   "pygments_lexer": "ipython3",
   "version": "3.12.9"
  }
 },
 "nbformat": 4,
 "nbformat_minor": 5
}
